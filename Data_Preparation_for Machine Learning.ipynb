{
 "cells": [
  {
   "cell_type": "markdown",
   "id": "c2740cd1-08fa-4629-8e57-d406e56cad27",
   "metadata": {},
   "source": [
    "<font size=\"10\"> Filter Methods for Feature Selection Method</font>"
   ]
  },
  {
   "cell_type": "markdown",
   "id": "82c14796-a52c-4e65-942c-87778ca03da2",
   "metadata": {},
   "source": [
    "<span style=\"color:red; font-size:24px; font-weight:bold;\">Filter Method 1: Computing and Show  Chi square values</span>"
   ]
  },
  {
   "cell_type": "code",
   "execution_count": 37,
   "id": "7fd920cb-e1af-4f1a-9dbd-e28ffc51173d",
   "metadata": {},
   "outputs": [
    {
     "name": "stdout",
     "output_type": "stream",
     "text": [
      "Selected features:\n",
      "Feature 0: Chi-square score = 10.817820878494002\n",
      "Feature 1: Chi-square score = 3.7107283035324965\n",
      "Feature 2: Chi-square score = 116.31261309207025\n",
      "Feature 3: Chi-square score = 67.04836020011118\n"
     ]
    }
   ],
   "source": [
    "import numpy as np\n",
    "from sklearn.feature_selection import SelectKBest\n",
    "from sklearn.feature_selection import chi2\n",
    "from sklearn.datasets import load_iris\n",
    "\n",
    "# Load example data (replace this with your own data)\n",
    "data = load_iris()\n",
    "X = data.data  # Features\n",
    "y = data.target  # Target variable\n",
    "\n",
    "# Feature selection using Chi-square test\n",
    "# Select the top k features based on the Chi-square statistic\n",
    "#k = 4  # Number of top features to select, i.e., k=2 will selct top two features based on chi square values\n",
    "k=X.shape[1] # counts number of features\n",
    "selector = SelectKBest(score_func=chi2, k=k) \n",
    "X_new = selector.fit_transform(X, y)\n",
    "\n",
    "# Print the selected features and their Chi-square scores\n",
    "print(\"Selected features:\")\n",
    "selected_features = []\n",
    "for i, feature_idx in enumerate(selector.get_support(indices=True)):\n",
    "    selected_features.append(feature_idx)\n",
    "    print(f\"Feature {feature_idx}: Chi-square score = {selector.scores_[feature_idx]}\")"
   ]
  },
  {
   "cell_type": "markdown",
   "id": "780ca8fc-4249-4dc4-b97d-28da308cec6c",
   "metadata": {},
   "source": [
    "<span style=\"color:red; font-size:24px; font-weight:bold;\">Filter Method 1.2: Computing and Show P values</span>"
   ]
  },
  {
   "cell_type": "code",
   "execution_count": 42,
   "id": "a2d851cc-a286-4adc-bf1f-b1332af3d7f2",
   "metadata": {},
   "outputs": [
    {
     "name": "stdout",
     "output_type": "stream",
     "text": [
      "Feature 0: p-value = 0.0000000067\n",
      "Feature 1: p-value = 0.0000601603\n",
      "Feature 2: p-value = 0.0000000000\n",
      "Feature 3: p-value = 0.0000000000\n"
     ]
    }
   ],
   "source": [
    "from sklearn.datasets import load_iris\n",
    "from scipy.stats import chi2_contingency\n",
    "\n",
    "# Load the Iris dataset\n",
    "iris = load_iris()\n",
    "X = iris.data\n",
    "y = iris.target\n",
    "\n",
    "# Perform chi-square tests for each feature\n",
    "p_values = []\n",
    "for i in range(X.shape[1]):\n",
    "    observed = X[:, i]\n",
    "    contingency_table = []\n",
    "    for unique_class in set(y):\n",
    "        contingency_table.append([(observed[y == unique_class] == val).sum() for val in set(observed)])\n",
    "    _, p, _, _ = chi2_contingency(contingency_table)\n",
    "    p_values.append(p)\n",
    "\n",
    "# Print the p-values for each feature\n",
    "for i, p_value in enumerate(p_values):\n",
    "    p_value= \"{:.10f}\".format(p_value) #show 10 digits after decimal\n",
    "    print(f\"Feature {i}: p-value = {p_value}\")"
   ]
  },
  {
   "cell_type": "markdown",
   "id": "ded540c3-4bfd-4ddf-a64b-7db31f157e63",
   "metadata": {},
   "source": [
    " <span style=\"color:red; font-size:24px; font-weight:bold;\">Filter Method 2:Feature Selection by Pearson Correlation coefficient scores</span>"
   ]
  },
  {
   "cell_type": "code",
   "execution_count": 43,
   "id": "b5280499-3d47-4b10-930f-dd76b51a677b",
   "metadata": {},
   "outputs": [
    {
     "name": "stdout",
     "output_type": "stream",
     "text": [
      "Feature: sepal length (cm), Pearson Correlation: 0.7825612318100812\n",
      "Feature: sepal width (cm), Pearson Correlation: -0.426657560781124\n",
      "Feature: petal length (cm), Pearson Correlation: 0.9490346990083889\n",
      "Feature: petal width (cm), Pearson Correlation: 0.9565473328764029\n"
     ]
    }
   ],
   "source": [
    "import pandas as pd\n",
    "import numpy as np\n",
    "from sklearn.datasets import load_iris\n",
    "from scipy.stats import pearsonr\n",
    "\n",
    "# Load the Iris dataset\n",
    "iris = load_iris()\n",
    "data = iris.data\n",
    "target = iris.target\n",
    "\n",
    "# Create a DataFrame\n",
    "df = pd.DataFrame(data, columns=iris.feature_names)\n",
    "df['target'] = target\n",
    "\n",
    "# Extract features and target\n",
    "features = df.drop(columns=['target'])\n",
    "target = df['target']\n",
    "\n",
    "# Function to calculate Pearson correlation coefficient for each feature\n",
    "def compute_pearson_correlation(features, target):\n",
    "    correlations = {}\n",
    "    for column in features.columns:\n",
    "        corr, _ = pearsonr(features[column], target)\n",
    "        correlations[column] = corr\n",
    "    return correlations\n",
    "\n",
    "# Compute Pearson correlation coefficient for each feature\n",
    "correlations = compute_pearson_correlation(features, target)\n",
    "\n",
    "# Print the Pearson correlation coefficients\n",
    "for feature, correlation in correlations.items():\n",
    "    print(f'Feature: {feature}, Pearson Correlation: {correlation}')\n"
   ]
  },
  {
   "cell_type": "markdown",
   "id": "7c90df98-72ec-4176-a4ce-a4e3eca7a72b",
   "metadata": {},
   "source": [
    "\n",
    "<span style=\"color:red; font-size:24px; font-weight:bold;\">Filter Method 3:Feature Selection by Variance Thresold</span>\r\n"
   ]
  },
  {
   "cell_type": "code",
   "execution_count": 45,
   "id": "efc915d0-30b5-4c39-afb9-5e16cc2364c1",
   "metadata": {},
   "outputs": [
    {
     "name": "stdout",
     "output_type": "stream",
     "text": [
      "Original feature variances:\n",
      "sepal length (cm)    0.685694\n",
      "sepal width (cm)     0.189979\n",
      "petal length (cm)    3.116278\n",
      "petal width (cm)     0.581006\n",
      "target               0.671141\n",
      "dtype: float64\n",
      "Original shape: (150, 4)\n",
      "Shape after Variance Threshold: (150, 3)\n",
      "Selected feature indices: [0 2 3]\n",
      "Selected feature variances: sepal length (cm)    0.685694\n",
      "petal length (cm)    3.116278\n",
      "petal width (cm)     0.581006\n",
      "dtype: float64\n"
     ]
    }
   ],
   "source": [
    "import pandas as pd\n",
    "from sklearn.datasets import load_iris\n",
    "from sklearn.feature_selection import VarianceThreshold\n",
    "\n",
    "# Load the Iris dataset\n",
    "iris = load_iris()\n",
    "X = iris.data\n",
    "y = iris.target\n",
    "\n",
    "# Convert to DataFrame for better visualization (optional)\n",
    "df = pd.DataFrame(X, columns=iris.feature_names)\n",
    "df['target'] = y\n",
    "\n",
    "# Print original feature variances\n",
    "print(\"Original feature variances:\")\n",
    "print(df.var())\n",
    "\n",
    "# Define a variance threshold\n",
    "threshold = 0.5\n",
    "\n",
    "# Apply VarianceThreshold\n",
    "selector = VarianceThreshold(threshold=threshold)\n",
    "X_high_variance = selector.fit_transform(X)\n",
    "\n",
    "# Print the shape of the dataset before and after variance thresholding\n",
    "print(\"Original shape:\", X.shape)\n",
    "print(\"Shape after Variance Threshold:\", X_high_variance.shape)\n",
    "\n",
    "# Optionally, print the variances of selected features\n",
    "selected_features = selector.get_support(indices=True)\n",
    "print(\"Selected feature indices:\", selected_features)\n",
    "print(\"Selected feature variances:\", df.var().iloc[selected_features])\n"
   ]
  },
  {
   "cell_type": "markdown",
   "id": "c57ef973-edf5-4aaf-bbfd-6b5998972fb3",
   "metadata": {},
   "source": [
    "\n",
    "<span style=\"color:red; font-size:24px; font-weight:bold;\">Find Missing Values</span>\r\n"
   ]
  },
  {
   "cell_type": "code",
   "execution_count": null,
   "id": "b9ce2782-88cd-4541-8d48-1785051ea5da",
   "metadata": {},
   "outputs": [],
   "source": [
    "import pandas as pd\n",
    "\n",
    "# Load your dataset into a pandas DataFrame\n",
    "# For example, if you have a CSV file:\n",
    "# df = pd.read_csv('your_dataset.csv')\n",
    "\n",
    "# Creating a sample DataFrame for demonstration\n",
    "data = {\n",
    "    'A': [1, 2, None, 4],\n",
    "    'B': [None, 2, 3, 4],\n",
    "    'C': [1, None, None, 4],\n",
    "    'D': [1, 2, 3, 4]\n",
    "}\n",
    "df = pd.DataFrame(data)\n",
    "\n",
    "# Find missing values\n",
    "missing_values = df.isnull()\n",
    "\n",
    "# Print the DataFrame showing missing values (True indicates missing)\n",
    "print(\"Missing Values in the DataFrame:\")\n",
    "print(missing_values)\n",
    "\n",
    "# Alternatively, you can get the count of missing values per column\n",
    "missing_count_per_column = df.isnull().sum()\n",
    "\n",
    "print(\"\\nCount of Missing Values per Column:\")\n",
    "print(missing_count_per_column)\n",
    "\n",
    "# If you want to get the count of missing values in the entire DataFrame\n",
    "total_missing = df.isnull().sum().sum()\n",
    "\n",
    "print(\"\\nTotal Number of Missing Values in the DataFrame:\")\n",
    "print(total_missing)\n"
   ]
  },
  {
   "cell_type": "code",
   "execution_count": null,
   "id": "9fb13785-0e86-4def-9cf5-9c2b528c6f0d",
   "metadata": {},
   "outputs": [],
   "source": [
    "# Fill missing values (null) with the mean of their respective columns\n",
    "df.fillna(df.mean(), inplace=True)\n",
    "\n",
    "print(\"\\nDataFrame after filling missing values with mean:\")\n",
    "print(df)"
   ]
  },
  {
   "cell_type": "code",
   "execution_count": null,
   "id": "99bc279b-2ea3-4bb1-87ac-a6556a995578",
   "metadata": {},
   "outputs": [],
   "source": [
    "import pandas as pd\n",
    "\n",
    "# Load your dataset into a pandas DataFrame\n",
    "# For example, if you have a CSV file:\n",
    "# df = pd.read_csv('your_dataset.csv')\n",
    "\n",
    "# Creating a sample DataFrame for demonstration\n",
    "data = {\n",
    "    'A': [1, 2, None, 4],\n",
    "    'B': [None, 2, 3, 4],\n",
    "    'C': [1, None, None, 4],\n",
    "    'D': [1, 2, 3, 4]\n",
    "}\n",
    "df = pd.DataFrame(data)\n",
    "\n",
    "# Select the column you want to check for NaN values\n",
    "column_name = 'A'\n",
    "\n",
    "# Find the total number of NaN values in the column\n",
    "nan_count = df[column_name].isnull().sum()\n",
    "\n",
    "# Print the total number of NaN values in the column\n",
    "print(f\"Total number of NaN values in column '{column_name}': {nan_count}\")\n",
    "\n",
    "# Fill NaN values in the column with zero\n",
    "df[column_name].fillna(0, inplace=True)\n",
    "\n",
    "print(f\"\\nDataFrame after filling NaN values in column '{column_name}' with zero:\")\n",
    "print(df)\n"
   ]
  },
  {
   "cell_type": "markdown",
   "id": "e223c8ee-4cf9-4f37-8e74-8068feb5e523",
   "metadata": {},
   "source": [
    "\n",
    "\n",
    "\n",
    "<span style=\"color:red; font-size:24px; font-weight:bold;\">Dimensionality Reduction Using Principal Component Analysis (PCA)</span>\r\n",
    "aont>"
   ]
  },
  {
   "cell_type": "code",
   "execution_count": null,
   "id": "619724d6-a75f-464e-9dc4-9f949c5d96c1",
   "metadata": {},
   "outputs": [],
   "source": [
    "import pandas as pd\n",
    "from sklearn.decomposition import PCA\n",
    "from sklearn.preprocessing import StandardScaler\n",
    "\n",
    "# Sample dataset\n",
    "data = {\n",
    "    'A': [1, 2, 3, 4, 5],\n",
    "    'B': [2, 3, 4, 5, 6],\n",
    "    'C': [5, 6, 7, 8, 9],\n",
    "    'D': [3, 4, 5, 6, 7]\n",
    "}\n",
    "df = pd.DataFrame(data)\n",
    "\n",
    "print(\"Original DataFrame:\")\n",
    "print(df)\n",
    "\n",
    "# Standardize the data\n",
    "scaler = StandardScaler()\n",
    "scaled_data = scaler.fit_transform(df)\n",
    "\n",
    "print(\"\\nStandardized Data:\")\n",
    "print(scaled_data)\n",
    "\n",
    "# Perform PCA\n",
    "pca = PCA(n_components=2)  # Number of components to keep\n",
    "principal_components = pca.fit_transform(scaled_data)\n",
    "\n",
    "# Create a DataFrame with the principal components\n",
    "principal_df = pd.DataFrame(data=principal_components, columns=['Principal Component 1', 'Principal Component 2'])\n",
    "\n",
    "print(\"\\nDataFrame with Principal Components:\")\n",
    "print(principal_df)\n",
    "\n",
    "# Explained variance\n",
    "print(\"\\nExplained Variance Ratio:\")\n",
    "print(pca.explained_variance_ratio_)\n",
    "\n",
    "# Cumulative explained variance\n",
    "print(\"\\nCumulative Explained Variance Ratio:\")\n",
    "print(pca.explained_variance_ratio_.cumsum())\n"
   ]
  },
  {
   "cell_type": "markdown",
   "id": "13ff5f67-8d38-4c38-8af5-35d46a81444d",
   "metadata": {},
   "source": [
    "<span style=\"color:red; font-size:24px; font-weight:bold;\">Dimensionality Reduction Using Linear Discriminant Analysis  (LDA)</span>"
   ]
  },
  {
   "cell_type": "code",
   "execution_count": null,
   "id": "6d4c4a5b-8c7b-4cfa-b728-f07292282cbc",
   "metadata": {},
   "outputs": [],
   "source": [
    "import pandas as pd\n",
    "from sklearn.discriminant_analysis import LinearDiscriminantAnalysis as LDA\n",
    "from sklearn.preprocessing import StandardScaler\n",
    "from sklearn.model_selection import train_test_split\n",
    "from sklearn.datasets import load_iris\n",
    "\n",
    "# Load the Iris dataset\n",
    "iris = load_iris()\n",
    "X = iris.data\n",
    "y = iris.target\n",
    "\n",
    "# Standardize the data\n",
    "scaler = StandardScaler()\n",
    "X_scaled = scaler.fit_transform(X)\n",
    "\n",
    "# Split the data into training and testing sets\n",
    "X_train, X_test, y_train, y_test = train_test_split(X_scaled, y, test_size=0.3, random_state=42)\n",
    "\n",
    "# Perform LDA\n",
    "lda = LDA(n_components=2)  # Number of components to keep\n",
    "X_train_lda = lda.fit_transform(X_train, y_train)\n",
    "X_test_lda = lda.transform(X_test)\n",
    "\n",
    "# Create DataFrames for better visualization\n",
    "train_df = pd.DataFrame(data=X_train_lda, columns=['LDA1', 'LDA2'])\n",
    "train_df['target'] = y_train\n",
    "\n",
    "test_df = pd.DataFrame(data=X_test_lda, columns=['LDA1', 'LDA2'])\n",
    "test_df['target'] = y_test\n",
    "\n",
    "print(\"Training set after LDA:\")\n",
    "print(train_df.head())\n",
    "\n",
    "print(\"\\nTesting set after LDA:\")\n",
    "print(test_df.head())\n",
    "\n",
    "# Explained variance ratio\n",
    "explained_variance_ratio = lda.explained_variance_ratio_\n",
    "print(\"\\nExplained Variance Ratio:\")\n",
    "print(explained_variance_ratio)\n"
   ]
  }
 ],
 "metadata": {
  "kernelspec": {
   "display_name": "Python 3 (ipykernel)",
   "language": "python",
   "name": "python3"
  },
  "language_info": {
   "codemirror_mode": {
    "name": "ipython",
    "version": 3
   },
   "file_extension": ".py",
   "mimetype": "text/x-python",
   "name": "python",
   "nbconvert_exporter": "python",
   "pygments_lexer": "ipython3",
   "version": "3.11.7"
  }
 },
 "nbformat": 4,
 "nbformat_minor": 5
}
